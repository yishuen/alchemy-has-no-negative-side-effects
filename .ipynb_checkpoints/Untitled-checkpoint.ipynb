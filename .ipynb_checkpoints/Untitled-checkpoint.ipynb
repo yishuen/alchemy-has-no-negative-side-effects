{
 "cells": [
  {
   "cell_type": "code",
   "execution_count": 14,
   "metadata": {},
   "outputs": [],
   "source": [
    "import plotly.plotly as py\n",
    "import csv"
   ]
  },
  {
   "cell_type": "code",
   "execution_count": 17,
   "metadata": {
    "scrolled": true
   },
   "outputs": [],
   "source": [
    "country_codes = {'Afghanistan': 'AFG', \n",
    "                'Brazil': 'BRA', \n",
    "                'Cambodia': 'KHM',\n",
    "                'Canada': 'CAN',\n",
    "                'Colombia': 'COL',\n",
    "                'Congo - Brazzaville': 'COG',\n",
    "                'Hungary': 'HUN',\n",
    "                'India': 'IND',\n",
    "                'Iran': 'IRN',\n",
    "                'Jamaica': 'JAM',\n",
    "                'Laos': 'LAO',\n",
    "                'Malawi': 'MWI',\n",
    "                'Mexico': 'MEX',\n",
    "                'Morocco': 'MAR',\n",
    "                'Nepal': 'NPL',\n",
    "                'New Zealand': 'NZL',\n",
    "                'Pakistan': 'PAK',\n",
    "                'Panama': 'PAN',\n",
    "                'R\\u00e9union': 'MUS',\n",
    "                'South Africa': 'ZAF',\n",
    "                'Swaziland': 'SWZ',\n",
    "                'Switzerland': 'CHE',\n",
    "                'Thailand': 'THA',\n",
    "                'Turkey': 'TUR',\n",
    "                'Ukraine': 'UKR',\n",
    "                'United States': 'USA',\n",
    "                'Vietnam': 'VNM'\n",
    "                }"
   ]
  },
  {
   "cell_type": "code",
   "execution_count": 18,
   "metadata": {},
   "outputs": [
    {
     "data": {
      "text/plain": [
       "25"
      ]
     },
     "execution_count": 18,
     "metadata": {},
     "output_type": "execute_result"
    }
   ],
   "source": [
    "len(country_codes)"
   ]
  },
  {
   "cell_type": "code",
   "execution_count": null,
   "metadata": {},
   "outputs": [],
   "source": []
  }
 ],
 "metadata": {
  "kernelspec": {
   "display_name": "Python 3",
   "language": "python",
   "name": "python3"
  },
  "language_info": {
   "codemirror_mode": {
    "name": "ipython",
    "version": 3
   },
   "file_extension": ".py",
   "mimetype": "text/x-python",
   "name": "python",
   "nbconvert_exporter": "python",
   "pygments_lexer": "ipython3",
   "version": "3.7.0"
  }
 },
 "nbformat": 4,
 "nbformat_minor": 2
}
